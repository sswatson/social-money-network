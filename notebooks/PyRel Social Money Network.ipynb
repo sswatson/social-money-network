{
 "cells": [
  {
   "cell_type": "markdown",
   "id": "f0326ca5-c210-41dd-8112-39d508ad042b",
   "metadata": {},
   "source": [
    "## Setup"
   ]
  },
  {
   "cell_type": "code",
   "execution_count": 1,
   "id": "0627deee-b58c-4309-8683-ff4d3e2fdbc2",
   "metadata": {},
   "outputs": [],
   "source": [
    "import relationalai as rai\n",
    "from relationalai.graphs import Graph"
   ]
  },
  {
   "cell_type": "code",
   "execution_count": 2,
   "id": "32fadb2f-b054-4731-b90c-a9238ebda8b7",
   "metadata": {},
   "outputs": [],
   "source": [
    "model = rai.Model(\"SocialMoneyNetwork\")\n",
    "Account = model.Type(\"Account\")\n",
    "Transaction = model.Type(\"Transaction\")"
   ]
  },
  {
   "cell_type": "markdown",
   "id": "57c190da-1856-4f04-87a2-9da724e7927d",
   "metadata": {},
   "source": [
    "## Data Loading"
   ]
  },
  {
   "cell_type": "code",
   "execution_count": 3,
   "id": "eb2c9cda-742f-4c95-878e-0fde5a676238",
   "metadata": {},
   "outputs": [],
   "source": [
    "with model.rule():\n",
    "    account_id, account_type, name = rai.csv.load_file(model, \"accounts.csv\")\n",
    "    a = Account.add(id=account_id)\n",
    "    with account_type:\n",
    "        a.set(account_type=account_type)\n",
    "    with name:\n",
    "        a.set(name=name)\n",
    "\n",
    "with model.rule():\n",
    "    from_account, to_account, amount, type, date = rai.csv.load_file(model, \"transactions.csv\")\n",
    "    t = Transaction.add(\n",
    "        from_account=Account(id=from_account),\n",
    "        to_account=Account(id=to_account),\n",
    "        date=date\n",
    "    )\n",
    "    with amount:\n",
    "        t.set(amount=amount)\n",
    "    with type:\n",
    "        t.set(type=type)"
   ]
  },
  {
   "cell_type": "markdown",
   "id": "8983cddc-9b52-4141-9643-70006664f04d",
   "metadata": {},
   "source": [
    "## Inspecting tables"
   ]
  },
  {
   "cell_type": "code",
   "execution_count": 5,
   "id": "a58f4eb1-aec3-42bd-bd42-8f53dee735bb",
   "metadata": {},
   "outputs": [
    {
     "data": {
      "text/html": [
       "<div>\n",
       "<style scoped>\n",
       "    .dataframe tbody tr th:only-of-type {\n",
       "        vertical-align: middle;\n",
       "    }\n",
       "\n",
       "    .dataframe tbody tr th {\n",
       "        vertical-align: top;\n",
       "    }\n",
       "\n",
       "    .dataframe thead th {\n",
       "        text-align: right;\n",
       "    }\n",
       "</style>\n",
       "<table border=\"1\" class=\"dataframe\">\n",
       "  <thead>\n",
       "    <tr style=\"text-align: right;\">\n",
       "      <th></th>\n",
       "      <th>id</th>\n",
       "      <th>account_type</th>\n",
       "      <th>name</th>\n",
       "    </tr>\n",
       "  </thead>\n",
       "  <tbody>\n",
       "    <tr>\n",
       "      <th>0</th>\n",
       "      <td>merchant_1</td>\n",
       "      <td>Merchant</td>\n",
       "      <td>Blossom Florist &amp; Gifts</td>\n",
       "    </tr>\n",
       "    <tr>\n",
       "      <th>1</th>\n",
       "      <td>merchant_10</td>\n",
       "      <td>Merchant</td>\n",
       "      <td>Blue Ribbon Butchers</td>\n",
       "    </tr>\n",
       "    <tr>\n",
       "      <th>2</th>\n",
       "      <td>merchant_2</td>\n",
       "      <td>Merchant</td>\n",
       "      <td>The Rustic Loaf Bakery</td>\n",
       "    </tr>\n",
       "    <tr>\n",
       "      <th>3</th>\n",
       "      <td>merchant_3</td>\n",
       "      <td>Merchant</td>\n",
       "      <td>Bella's Café &amp; Espresso</td>\n",
       "    </tr>\n",
       "    <tr>\n",
       "      <th>4</th>\n",
       "      <td>merchant_4</td>\n",
       "      <td>Merchant</td>\n",
       "      <td>Sundown Brewery</td>\n",
       "    </tr>\n",
       "    <tr>\n",
       "      <th>...</th>\n",
       "      <td>...</td>\n",
       "      <td>...</td>\n",
       "      <td>...</td>\n",
       "    </tr>\n",
       "    <tr>\n",
       "      <th>105</th>\n",
       "      <td>user_95</td>\n",
       "      <td>User</td>\n",
       "      <td>John Whitehead</td>\n",
       "    </tr>\n",
       "    <tr>\n",
       "      <th>106</th>\n",
       "      <td>user_96</td>\n",
       "      <td>User</td>\n",
       "      <td>Anna Henderson</td>\n",
       "    </tr>\n",
       "    <tr>\n",
       "      <th>107</th>\n",
       "      <td>user_97</td>\n",
       "      <td>User</td>\n",
       "      <td>Aaron Wise</td>\n",
       "    </tr>\n",
       "    <tr>\n",
       "      <th>108</th>\n",
       "      <td>user_98</td>\n",
       "      <td>User</td>\n",
       "      <td>Deborah Figueroa</td>\n",
       "    </tr>\n",
       "    <tr>\n",
       "      <th>109</th>\n",
       "      <td>user_99</td>\n",
       "      <td>User</td>\n",
       "      <td>Jessica Smith</td>\n",
       "    </tr>\n",
       "  </tbody>\n",
       "</table>\n",
       "<p>110 rows × 3 columns</p>\n",
       "</div>"
      ],
      "text/plain": [
       "              id account_type                     name\n",
       "0     merchant_1     Merchant  Blossom Florist & Gifts\n",
       "1    merchant_10     Merchant     Blue Ribbon Butchers\n",
       "2     merchant_2     Merchant   The Rustic Loaf Bakery\n",
       "3     merchant_3     Merchant  Bella's Café & Espresso\n",
       "4     merchant_4     Merchant          Sundown Brewery\n",
       "..           ...          ...                      ...\n",
       "105      user_95         User           John Whitehead\n",
       "106      user_96         User           Anna Henderson\n",
       "107      user_97         User               Aaron Wise\n",
       "108      user_98         User         Deborah Figueroa\n",
       "109      user_99         User            Jessica Smith\n",
       "\n",
       "[110 rows x 3 columns]"
      ]
     },
     "execution_count": 5,
     "metadata": {},
     "output_type": "execute_result"
    }
   ],
   "source": [
    "with model.query() as select:\n",
    "    a = Account()\n",
    "    response = select(a.id, a.account_type, a.name)\n",
    "\n",
    "response.results"
   ]
  },
  {
   "cell_type": "code",
   "execution_count": 6,
   "id": "c9cbb487-075e-4dcd-88cd-93de65688c86",
   "metadata": {},
   "outputs": [
    {
     "data": {
      "text/html": [
       "<div>\n",
       "<style scoped>\n",
       "    .dataframe tbody tr th:only-of-type {\n",
       "        vertical-align: middle;\n",
       "    }\n",
       "\n",
       "    .dataframe tbody tr th {\n",
       "        vertical-align: top;\n",
       "    }\n",
       "\n",
       "    .dataframe thead th {\n",
       "        text-align: right;\n",
       "    }\n",
       "</style>\n",
       "<table border=\"1\" class=\"dataframe\">\n",
       "  <thead>\n",
       "    <tr style=\"text-align: right;\">\n",
       "      <th></th>\n",
       "      <th>id</th>\n",
       "      <th>id2</th>\n",
       "      <th>amount</th>\n",
       "      <th>type</th>\n",
       "      <th>date</th>\n",
       "    </tr>\n",
       "  </thead>\n",
       "  <tbody>\n",
       "    <tr>\n",
       "      <th>0</th>\n",
       "      <td>merchant_1</td>\n",
       "      <td>user_10</td>\n",
       "      <td>7.68</td>\n",
       "      <td>refund</td>\n",
       "      <td>2024-01-25</td>\n",
       "    </tr>\n",
       "    <tr>\n",
       "      <th>1</th>\n",
       "      <td>merchant_1</td>\n",
       "      <td>user_6</td>\n",
       "      <td>93.18</td>\n",
       "      <td>refund</td>\n",
       "      <td>2023-12-10</td>\n",
       "    </tr>\n",
       "    <tr>\n",
       "      <th>2</th>\n",
       "      <td>merchant_1</td>\n",
       "      <td>user_94</td>\n",
       "      <td>124.10</td>\n",
       "      <td>refund</td>\n",
       "      <td>2023-12-21</td>\n",
       "    </tr>\n",
       "    <tr>\n",
       "      <th>3</th>\n",
       "      <td>merchant_1</td>\n",
       "      <td>user_98</td>\n",
       "      <td>61.08</td>\n",
       "      <td>refund</td>\n",
       "      <td>2023-11-13</td>\n",
       "    </tr>\n",
       "    <tr>\n",
       "      <th>4</th>\n",
       "      <td>merchant_10</td>\n",
       "      <td>user_14</td>\n",
       "      <td>9.28</td>\n",
       "      <td>refund</td>\n",
       "      <td>2023-11-28</td>\n",
       "    </tr>\n",
       "    <tr>\n",
       "      <th>...</th>\n",
       "      <td>...</td>\n",
       "      <td>...</td>\n",
       "      <td>...</td>\n",
       "      <td>...</td>\n",
       "      <td>...</td>\n",
       "    </tr>\n",
       "    <tr>\n",
       "      <th>296</th>\n",
       "      <td>user_98</td>\n",
       "      <td>user_21</td>\n",
       "      <td>15.79</td>\n",
       "      <td>transaction</td>\n",
       "      <td>2024-01-14</td>\n",
       "    </tr>\n",
       "    <tr>\n",
       "      <th>297</th>\n",
       "      <td>user_98</td>\n",
       "      <td>user_44</td>\n",
       "      <td>15.77</td>\n",
       "      <td>transaction</td>\n",
       "      <td>2024-01-27</td>\n",
       "    </tr>\n",
       "    <tr>\n",
       "      <th>298</th>\n",
       "      <td>user_99</td>\n",
       "      <td>merchant_4</td>\n",
       "      <td>135.36</td>\n",
       "      <td>transaction</td>\n",
       "      <td>2024-02-03</td>\n",
       "    </tr>\n",
       "    <tr>\n",
       "      <th>299</th>\n",
       "      <td>user_99</td>\n",
       "      <td>merchant_6</td>\n",
       "      <td>96.12</td>\n",
       "      <td>transaction</td>\n",
       "      <td>2023-12-24</td>\n",
       "    </tr>\n",
       "    <tr>\n",
       "      <th>300</th>\n",
       "      <td>user_99</td>\n",
       "      <td>user_34</td>\n",
       "      <td>42.25</td>\n",
       "      <td>transaction</td>\n",
       "      <td>2023-12-23</td>\n",
       "    </tr>\n",
       "  </tbody>\n",
       "</table>\n",
       "<p>301 rows × 5 columns</p>\n",
       "</div>"
      ],
      "text/plain": [
       "              id         id2  amount         type        date\n",
       "0     merchant_1     user_10    7.68       refund  2024-01-25\n",
       "1     merchant_1      user_6   93.18       refund  2023-12-10\n",
       "2     merchant_1     user_94  124.10       refund  2023-12-21\n",
       "3     merchant_1     user_98   61.08       refund  2023-11-13\n",
       "4    merchant_10     user_14    9.28       refund  2023-11-28\n",
       "..           ...         ...     ...          ...         ...\n",
       "296      user_98     user_21   15.79  transaction  2024-01-14\n",
       "297      user_98     user_44   15.77  transaction  2024-01-27\n",
       "298      user_99  merchant_4  135.36  transaction  2024-02-03\n",
       "299      user_99  merchant_6   96.12  transaction  2023-12-24\n",
       "300      user_99     user_34   42.25  transaction  2023-12-23\n",
       "\n",
       "[301 rows x 5 columns]"
      ]
     },
     "execution_count": 6,
     "metadata": {},
     "output_type": "execute_result"
    }
   ],
   "source": [
    "with model.query() as select:\n",
    "    t = Transaction()\n",
    "    response = select(t.from_account.id, t.to_account.id, t.amount, t.type, t.date)\n",
    "\n",
    "response.results"
   ]
  },
  {
   "cell_type": "markdown",
   "id": "6cf456f7-a13b-4fdd-bd08-d19befab36a8",
   "metadata": {},
   "source": [
    "## Graph Algorithms"
   ]
  },
  {
   "cell_type": "code",
   "execution_count": 4,
   "id": "d625ec42-aa79-49aa-aa39-26fc6591fd1a",
   "metadata": {},
   "outputs": [],
   "source": [
    "graph = Graph(model)"
   ]
  },
  {
   "cell_type": "code",
   "execution_count": 5,
   "id": "f20c1083-df8e-483c-bfab-8edc33626c9d",
   "metadata": {},
   "outputs": [],
   "source": [
    "with model.rule():\n",
    "    a = Account()\n",
    "    t = Transaction()\n",
    "    graph.nodes.add(a)\n",
    "    graph.edges.add(t.from_account, t.to_account)"
   ]
  },
  {
   "cell_type": "code",
   "execution_count": 6,
   "id": "0ee6a1cc-5141-42d1-b423-04f11eb7afe8",
   "metadata": {},
   "outputs": [],
   "source": [
    "with model.rule():\n",
    "    a = Account()\n",
    "    degree = graph.compute.degree(a)\n",
    "    graph.nodes.add(a, degree=degree, label=a.name)"
   ]
  },
  {
   "cell_type": "code",
   "execution_count": 7,
   "id": "33d71ee7-87da-4888-a419-eeb47f4acacb",
   "metadata": {},
   "outputs": [],
   "source": [
    "with model.rule():\n",
    "    a = Account()\n",
    "    pagerank = graph.compute.pagerank(a)\n",
    "    graph.nodes.add(a, pagerank=pagerank)"
   ]
  },
  {
   "cell_type": "code",
   "execution_count": 8,
   "id": "77074465",
   "metadata": {},
   "outputs": [
    {
     "ename": "AttributeError",
     "evalue": "'SnowflakeCursor' object has no attribute 'results'",
     "output_type": "error",
     "traceback": [
      "\u001b[0;31m---------------------------------------------------------------------------\u001b[0m",
      "\u001b[0;31mAttributeError\u001b[0m                            Traceback (most recent call last)",
      "Cell \u001b[0;32mIn[8], line 1\u001b[0m\n\u001b[0;32m----> 1\u001b[0m \u001b[43mgraph\u001b[49m\u001b[38;5;241;43m.\u001b[39;49m\u001b[43mfetch\u001b[49m\u001b[43m(\u001b[49m\u001b[43m)\u001b[49m\n",
      "File \u001b[0;32m~/GitHub/social-money-network/.venv/lib/python3.11/site-packages/relationalai/graphs/lib.py:146\u001b[0m, in \u001b[0;36mGraph.fetch\u001b[0;34m(self)\u001b[0m\n\u001b[1;32m    144\u001b[0m results \u001b[38;5;241m=\u001b[39m \u001b[38;5;28mself\u001b[39m\u001b[38;5;241m.\u001b[39mmodel\u001b[38;5;241m.\u001b[39mexec_raw(\u001b[38;5;124m\"\u001b[39m\u001b[38;5;130;01m\\n\u001b[39;00m\u001b[38;5;124m\"\u001b[39m\u001b[38;5;241m.\u001b[39mjoin(code))\n\u001b[1;32m    145\u001b[0m output \u001b[38;5;241m=\u001b[39m {\u001b[38;5;124m\"\u001b[39m\u001b[38;5;124mnodes\u001b[39m\u001b[38;5;124m\"\u001b[39m: defaultdict(\u001b[38;5;28mdict\u001b[39m), \u001b[38;5;124m\"\u001b[39m\u001b[38;5;124medges\u001b[39m\u001b[38;5;124m\"\u001b[39m: defaultdict(\u001b[38;5;28mdict\u001b[39m)}\n\u001b[0;32m--> 146\u001b[0m \u001b[38;5;28;01mfor\u001b[39;00m \u001b[38;5;28mset\u001b[39m \u001b[38;5;129;01min\u001b[39;00m \u001b[43mresults\u001b[49m\u001b[38;5;241;43m.\u001b[39;49m\u001b[43mresults\u001b[49m:\n\u001b[1;32m    147\u001b[0m     path \u001b[38;5;241m=\u001b[39m [v[\u001b[38;5;241m1\u001b[39m:] \u001b[38;5;28;01mfor\u001b[39;00m v \u001b[38;5;129;01min\u001b[39;00m \u001b[38;5;28mset\u001b[39m[\u001b[38;5;124m\"\u001b[39m\u001b[38;5;124mrelationId\u001b[39m\u001b[38;5;124m\"\u001b[39m]\u001b[38;5;241m.\u001b[39msplit(\u001b[38;5;124m\"\u001b[39m\u001b[38;5;124m/\u001b[39m\u001b[38;5;124m\"\u001b[39m)[\u001b[38;5;241m2\u001b[39m:] \u001b[38;5;28;01mif\u001b[39;00m v[\u001b[38;5;241m0\u001b[39m] \u001b[38;5;241m==\u001b[39m \u001b[38;5;124m\"\u001b[39m\u001b[38;5;124m:\u001b[39m\u001b[38;5;124m\"\u001b[39m]\n\u001b[1;32m    148\u001b[0m     cur \u001b[38;5;241m=\u001b[39m output[path[\u001b[38;5;241m0\u001b[39m]]\n",
      "\u001b[0;31mAttributeError\u001b[0m: 'SnowflakeCursor' object has no attribute 'results'"
     ]
    }
   ],
   "source": [
    "graph.fetch()"
   ]
  },
  {
   "cell_type": "code",
   "execution_count": null,
   "id": "53d478da",
   "metadata": {},
   "outputs": [],
   "source": [
    "graph.nodes()"
   ]
  },
  {
   "cell_type": "code",
   "execution_count": null,
   "id": "9f41f1d5-2a56-4224-95ab-3527c1a42165",
   "metadata": {},
   "outputs": [],
   "source": [
    "graph.visualize()"
   ]
  },
  {
   "cell_type": "code",
   "execution_count": null,
   "id": "6780ffb4-7653-4c1e-b7c4-986edf950235",
   "metadata": {},
   "outputs": [],
   "source": []
  }
 ],
 "metadata": {
  "kernelspec": {
   "display_name": "Python 3 (ipykernel)",
   "language": "python",
   "name": "python3"
  },
  "language_info": {
   "codemirror_mode": {
    "name": "ipython",
    "version": 3
   },
   "file_extension": ".py",
   "mimetype": "text/x-python",
   "name": "python",
   "nbconvert_exporter": "python",
   "pygments_lexer": "ipython3",
   "version": "3.11.7"
  }
 },
 "nbformat": 4,
 "nbformat_minor": 5
}
